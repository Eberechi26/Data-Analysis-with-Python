{
 "cells": [
  {
   "cell_type": "raw",
   "id": "49eb49dd",
   "metadata": {},
   "source": [
    "# Imported important files\n",
    "\n",
    "import numpy as np\n",
    "import pandas as pd\n",
    "import matplotlib.pyplot as plt\n",
    "import plotly.graph_objects as go"
   ]
  },
  {
   "cell_type": "raw",
   "id": "c4533952",
   "metadata": {
    "scrolled": true
   },
   "source": [
    "# Read the Excel and displayed the first five rows\n",
    "\n",
    "df = pd.read_excel('EBERECHI MAUREEN NWANKWO_8145497791_20250416095037.xlsx')\n",
    "df.head()"
   ]
  },
  {
   "cell_type": "raw",
   "id": "cade8c82",
   "metadata": {},
   "source": [
    "# Statistical Description of the numerical columns\n",
    "\n",
    "df.describe()"
   ]
  },
  {
   "cell_type": "raw",
   "id": "5480935a",
   "metadata": {},
   "source": [
    "# Number of rows and columns\n",
    "\n",
    "df.shape"
   ]
  },
  {
   "cell_type": "markdown",
   "id": "2459517d",
   "metadata": {},
   "source": [
    "# Data Preparation"
   ]
  },
  {
   "cell_type": "raw",
   "id": "ec88481c",
   "metadata": {},
   "source": [
    "# number of null values in each of the columns\n",
    "\n",
    "df1 = df.isnull().sum()\n",
    "df1"
   ]
  },
  {
   "cell_type": "raw",
   "id": "59e92635",
   "metadata": {},
   "source": [
    "# Total Credit/Debit Values respectively\n",
    "\n",
    "# Calculate total credit (positive values)\n",
    "total_credit = df[df['Debit/Credit(₦)'] > 0]['Debit/Credit(₦)'].sum()\n",
    "\n",
    "# Calculate total debit (negative values, we'll make it positive for reporting)\n",
    "total_debit = abs(df[df['Debit/Credit(₦)'] < 0]['Debit/Credit(₦)'].sum())\n",
    "\n",
    "print(f\"Total Credit: ₦{total_credit:.2f}\")\n",
    "print(f\"Total Debit: ₦{total_debit:.2f}\")"
   ]
  },
  {
   "cell_type": "raw",
   "id": "289271ff",
   "metadata": {
    "scrolled": true
   },
   "source": [
    "# Spliting the credit and debit in different columns\n",
    "\n",
    "df['total_credit'] = df[df['Debit/Credit(₦)'] > 0]['Debit/Credit(₦)']\n",
    "df['total_debit'] = abs(df[df['Debit/Credit(₦)'] < 0]['Debit/Credit(₦)'])"
   ]
  },
  {
   "cell_type": "raw",
   "id": "af03b50b",
   "metadata": {},
   "source": [
    "# filled up the null values of the credit and debit column\n",
    "\n",
    "df['total_credit']= df['total_credit'].ffill()\n",
    "df['total_debit']= df['total_debit'].ffill()"
   ]
  },
  {
   "cell_type": "raw",
   "id": "cd6f12a0",
   "metadata": {},
   "source": [
    "# filling the null values in channel and balance columns\n",
    "\n",
    "df4 = df['Balance(₦)'].median()\n",
    "df['Balance(₦)'] = df['Balance(₦)'].fillna(df4)\n",
    "\n",
    "df = df[['Value Date', 'Channel' ]].ffill()"
   ]
  },
  {
   "cell_type": "raw",
   "id": "c9cfb401",
   "metadata": {},
   "source": [
    "# converting the date column to datetime\n",
    "\n",
    "df['Value Date'] = pd.to_datetime(df['Value Date'])"
   ]
  },
  {
   "cell_type": "markdown",
   "id": "dcbe7eac",
   "metadata": {},
   "source": [
    "# Data Exploration"
   ]
  },
  {
   "cell_type": "raw",
   "id": "2ae73bb6",
   "metadata": {},
   "source": [
    "# Exploring the rate of income per month\n",
    "\n",
    "df['Value Month'] = df['Value Date'].dt.month\n",
    "\n",
    "# aggregate total credit by value month\n",
    "monthly_value = df.groupby('Value Month')['total_credit'].sum()\n",
    "\n",
    "fig = go.Figure(data=[\n",
    "    go.Scatter(\n",
    "        x=monthly_value.index,\n",
    "        y=monthly_value.values,\n",
    "        marker=dict(color='red'),\n",
    "        line=dict(color='blue')\n",
    "    )\n",
    "])\n",
    "\n",
    "fig.update_layout(\n",
    "    title='Total Monthly Income',\n",
    "    xaxis_title='Month',\n",
    "    yaxis_title='Total Credit',\n",
    "    xaxis=dict(\n",
    "        tickmode='array',\n",
    "        tickvals=list(range(1, 13)),\n",
    "        ticktext=['Jan', 'Feb', 'Mar', 'Apr', 'May', 'Jun', 'Jul', 'Aug', 'Sep', 'Oct', 'Nov', 'Dec']\n",
    "    ),\n",
    "    height=600,\n",
    "    width=1000\n",
    ")\n",
    "\n",
    "fig.show()"
   ]
  },
  {
   "cell_type": "code",
   "execution_count": null,
   "id": "92750a6e",
   "metadata": {},
   "outputs": [],
   "source": [
    "# exploring the rate of expenses by month \n",
    "\n",
    "# aggregate total debit by Value month\n",
    "monthly_value = df.groupby('Value Month')['total_debit'].sum()\n",
    "\n",
    "fig = go.Figure(data=[\n",
    "    go.Scatter(\n",
    "        x=monthly_value.index,\n",
    "        y=monthly_value.values,\n",
    "        marker=dict(color='red'),\n",
    "        line=dict(color='blue')\n",
    "    )\n",
    "])\n",
    "\n",
    "fig.update_layout(\n",
    "    title='Total Monthly Debit',\n",
    "    xaxis_title='Month',\n",
    "    yaxis_title='Total Debit',\n",
    "    xaxis=dict(\n",
    "        tickmode='array',\n",
    "        tickvals=list(range(1, 13)),\n",
    "        ticktext=['Jan', 'Feb', 'Mar', 'Apr', 'May', 'Jun', 'Jul', 'Aug', 'Sep', 'Oct', 'Nov', 'Dec']\n",
    "    ),\n",
    "    height=600,\n",
    "    width=1000\n",
    ")\n",
    "\n",
    "fig.show()"
   ]
  },
  {
   "cell_type": "code",
   "execution_count": null,
   "id": "b12bdbc6",
   "metadata": {},
   "outputs": [],
   "source": [
    "# exploring the total credit per weekday\n",
    "\n",
    "df['Value Day'] = df['Value Date'].dt.day_name()\n",
    "\n",
    "weekday_value = df['Value Day'].value_counts().reindex(\n",
    "    ['Monday', 'Tuesday', 'Wednesday', 'Thursday', 'Friday', 'Saturday', 'Sunday']\n",
    ")\n",
    "\n",
    "# aggregate total credit by day of the week\n",
    "weekday_inflow = df.groupby('Value Day')['total_credit'].sum().reindex(\n",
    "    ['Monday', 'Tuesday', 'Wednesday', 'Thursday', 'Friday', 'Saturday', 'Sunday']\n",
    ")\n",
    "\n",
    "fig = go.Figure()\n",
    "\n",
    "fig.add_trace(\n",
    "    go.Bar(\n",
    "        x=weekday_value.index,\n",
    "        y=weekday_value.values,\n",
    "        name='Income',\n",
    "        marker_color='blue',\n",
    "        opacity=0.6,\n",
    "        yaxis='y1'\n",
    "    )\n",
    ")\n",
    "\n",
    "fig.add_trace(\n",
    "    go.Scatter(\n",
    "        x=weekday_inflow.index,\n",
    "        y=weekday_inflow.values,\n",
    "        name='Total Credit',\n",
    "        mode='lines+markers',\n",
    "        marker=dict(color='red'),\n",
    "        line=dict(color='red'),\n",
    "        yaxis='y2'\n",
    "    )\n",
    ")\n",
    "\n",
    "fig.update_layout(\n",
    "    title='Weekly Cash Inflow',\n",
    "    xaxis=dict(\n",
    "        title='Day of the Week',\n",
    "        categoryorder ='array',\n",
    "        categoryarray=['Monday', 'Tuesday', 'Wednesday', 'Thursday', 'Friday', 'Saturday', 'Sunday']\n",
    "    ),\n",
    "    yaxis=dict(\n",
    "        title='Total Income',\n",
    "        showgrid=False,\n",
    "        side='left',\n",
    "    ),\n",
    "    yaxis2=dict(\n",
    "        title='Total Income',\n",
    "        overlaying='y',\n",
    "        side='right',\n",
    "        showgrid=False\n",
    "    ), \n",
    "    legend=dict(\n",
    "        x=1.05,\n",
    "        y=1,\n",
    "        orientation='v',\n",
    "        xanchor='left'\n",
    "    ),\n",
    "    height=600,\n",
    "    width=1000\n",
    ")\n",
    "\n",
    "\n",
    "fig.show()"
   ]
  },
  {
   "cell_type": "code",
   "execution_count": null,
   "id": "d6116ccb",
   "metadata": {},
   "outputs": [],
   "source": [
    "# exploring the total credit per weekday\n",
    "\n",
    "\n",
    "weekday_inflow = df.groupby('Value Day')['total_debit'].sum().reindex(\n",
    "    ['Monday', 'Tuesday', 'Wednesday', 'Thursday', 'Friday', 'Saturday', 'Sunday']\n",
    ")\n",
    "\n",
    "fig = go.Figure()\n",
    "\n",
    "fig.add_trace(\n",
    "    go.Bar(\n",
    "        x=weekday_value.index,\n",
    "        y=weekday_value.values,\n",
    "        name='Expense',\n",
    "        marker_color='red',\n",
    "        opacity=0.6,\n",
    "        yaxis='y1'\n",
    "    )\n",
    ")\n",
    "\n",
    "fig.add_trace(\n",
    "    go.Scatter(\n",
    "        x=weekday_inflow.index,\n",
    "        y=weekday_inflow.values,\n",
    "        name='Total Debit',\n",
    "        mode='lines+markers',\n",
    "        marker=dict(color='blue'),\n",
    "        line=dict(color='blue'),\n",
    "        yaxis='y2'\n",
    "    )\n",
    ")\n",
    "\n",
    "fig.update_layout(\n",
    "    title='Weekly Cash Outflow',\n",
    "    xaxis=dict(\n",
    "        title='Day of the Week',\n",
    "        categoryorder ='array',\n",
    "        categoryarray=['Monday', 'Tuesday', 'Wednesday', 'Thursday', 'Friday', 'Saturday', 'Sunday']\n",
    "    ),\n",
    "    yaxis=dict(\n",
    "        title='Total Expenses',\n",
    "        showgrid=False,\n",
    "        side='left',\n",
    "    ),\n",
    "    yaxis2=dict(\n",
    "        title='Total Expenses',\n",
    "        overlaying='y',\n",
    "        side='right',\n",
    "        showgrid=False\n",
    "    ), \n",
    "    legend=dict(\n",
    "        x=1.05,\n",
    "        y=1,\n",
    "        orientation='v',\n",
    "        xanchor='left'\n",
    "    ),\n",
    "    height=600,\n",
    "    width=1000\n",
    ")\n",
    "\n",
    "\n",
    "fig.show()"
   ]
  },
  {
   "cell_type": "markdown",
   "id": "dada580a",
   "metadata": {},
   "source": []
  }
 ],
 "metadata": {
  "kernelspec": {
   "display_name": "Python 3 (ipykernel)",
   "language": "python",
   "name": "python3"
  },
  "language_info": {
   "codemirror_mode": {
    "name": "ipython",
    "version": 3
   },
   "file_extension": ".py",
   "mimetype": "text/x-python",
   "name": "python",
   "nbconvert_exporter": "python",
   "pygments_lexer": "ipython3",
   "version": "3.9.12"
  }
 },
 "nbformat": 4,
 "nbformat_minor": 5
}
